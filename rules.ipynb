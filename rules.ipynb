{
 "cells": [
  {
   "cell_type": "code",
   "execution_count": 25,
   "id": "4a45fe83",
   "metadata": {},
   "outputs": [
    {
     "name": "stdout",
     "output_type": "stream",
     "text": [
      "The mean for the data set 'x' is: 1.1166666666666667 , and the error is: 0.073282810879294\n",
      "My error calculated through this program for method 2 of last weeks lab is:  0.005352476062534039\n",
      "My calculation does match my results from last weeks lab, as my previous error was 0.0052\n"
     ]
    }
   ],
   "source": [
    "#IMPORTANT !! RUN CODE TO GET ASSIGNEMNT ANSWERS !!\n",
    "\n",
    "import numpy as np\n",
    "\n",
    "#rule 1\n",
    "#if Q = cA, and c is a constant or a varriable with no effective error\n",
    "#δQ = |c|δA\n",
    "def rule1(c, dA):\n",
    "    dQ = abs(c) * dA\n",
    "    return dQ\n",
    "\n",
    "#rule 2\n",
    "#if Q = cA^m, and c and m are constants\n",
    "#dQ = |cmA^(m-1)|dA\n",
    "def rule2(c, m, A, dA):\n",
    "    dQ = abs(c * m * (A ** (m - 1))) * dA\n",
    "    return dQ\n",
    "\n",
    "#rule 3\n",
    "#if Q = A +/- B, dQ = (dA^2 + dB^2)^0.5\n",
    "def rule3(dA, dB):\n",
    "    dQ = (dA ** 2 + dB ** 2) ** 0.5\n",
    "    return dQ\n",
    "\n",
    "#rule 4\n",
    "#if Q = c(A^m)*(B^n), where c, m, and n are constants\n",
    "#dQ = |Q|( (m[dA]/A)^2 + (n[dB]/B)^2 )^0.5\n",
    "def rule4(c, A, dA, m, B, dB, n):\n",
    "    Q = c * (A ** m) * (B ** n)\n",
    "    dQ = abs(Q) * (((m * dA)/A) ** 2 + ((n * dB)/B) ** 2 ) ** 0.5\n",
    "    return dQ\n",
    "\n",
    "#Margin of error \n",
    "me_list = [1.1, 1.3, 1.4, 0.9, 0.95, 1.05]\n",
    "\n",
    "def me(me_list):\n",
    "    mean = np.average(me_list)\n",
    "    st_dev = np.std(me_list)\n",
    "    len_x = len(me_list)\n",
    "    margin_error = st_dev / ((len_x) ** 0.5)\n",
    "    return margin_error\n",
    "\n",
    "print(\"The mean for the data set 'x' is:\",np.average(x) ,\", and the error is:\", me(x))\n",
    "meth_2_list = [0.909, 0.923, 0.93, 0.931, 0.968, 0.953, 0.948, 0.942, 0.948, 0.959]\n",
    "print(\"My error calculated through this program for method 2 of last weeks lab is: \", me(meth_2_list))\n",
    "print(\"My calculation does match my results from last weeks lab, as my previous error was 0.0052\")\n",
    "\n"
   ]
  },
  {
   "cell_type": "markdown",
   "id": "dbdc3b31",
   "metadata": {},
   "source": [
    "$\\delta Q = \\sqrt{(\\delta A)^2+(\\delta B)^2}$"
   ]
  },
  {
   "cell_type": "markdown",
   "id": "27433389",
   "metadata": {},
   "source": [
    "$\\delta Q = \\sigma/{\\sqrt{N}}$"
   ]
  },
  {
   "cell_type": "code",
   "execution_count": null,
   "id": "6b8f65d2",
   "metadata": {},
   "outputs": [],
   "source": []
  }
 ],
 "metadata": {
  "kernelspec": {
   "display_name": "Python 3",
   "language": "python",
   "name": "python3"
  },
  "language_info": {
   "codemirror_mode": {
    "name": "ipython",
    "version": 3
   },
   "file_extension": ".py",
   "mimetype": "text/x-python",
   "name": "python",
   "nbconvert_exporter": "python",
   "pygments_lexer": "ipython3",
   "version": "3.8.8"
  }
 },
 "nbformat": 4,
 "nbformat_minor": 5
}
